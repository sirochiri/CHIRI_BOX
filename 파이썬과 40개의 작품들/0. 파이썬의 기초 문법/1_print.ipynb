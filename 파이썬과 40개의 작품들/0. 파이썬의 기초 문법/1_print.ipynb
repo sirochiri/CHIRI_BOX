{
 "cells": [
  {
   "cell_type": "code",
   "execution_count": 1,
   "metadata": {},
   "outputs": [
    {
     "name": "stdout",
     "output_type": "stream",
     "text": [
      "hello\n"
     ]
    }
   ],
   "source": [
    "print(\"hello\")\n"
   ]
  },
  {
   "cell_type": "code",
   "execution_count": 2,
   "metadata": {},
   "outputs": [
    {
     "name": "stdout",
     "output_type": "stream",
     "text": [
      "hello \"안녕하세요\"\n"
     ]
    }
   ],
   "source": [
    "print('hello \"안녕하세요\"')"
   ]
  },
  {
   "cell_type": "code",
   "execution_count": 3,
   "metadata": {},
   "outputs": [
    {
     "name": "stdout",
     "output_type": "stream",
     "text": [
      "hello '안녕하세요'\n"
     ]
    }
   ],
   "source": [
    "print(\"hello '안녕하세요'\")"
   ]
  },
  {
   "cell_type": "code",
   "execution_count": 4,
   "metadata": {},
   "outputs": [
    {
     "name": "stdout",
     "output_type": "stream",
     "text": [
      "안녕 하세요 반갑습니다\n"
     ]
    }
   ],
   "source": [
    "print('안녕','하세요','반갑습니다')"
   ]
  },
  {
   "cell_type": "code",
   "execution_count": 5,
   "metadata": {},
   "outputs": [
    {
     "name": "stdout",
     "output_type": "stream",
     "text": [
      "안녕하세요\n",
      "오늘은 날씨가 좋네요\n"
     ]
    }
   ],
   "source": [
    "print(\"\"\"안녕하세요\n",
    "오늘은 날씨가 좋네요\"\"\")"
   ]
  },
  {
   "cell_type": "code",
   "execution_count": 7,
   "metadata": {},
   "outputs": [
    {
     "name": "stdout",
     "output_type": "stream",
     "text": [
      "a값:123 b값:안녕하세요.\n"
     ]
    }
   ],
   "source": [
    "a = 123\n",
    "b = \"안녕하세요.\"\n",
    "print(\"a값:{} b값:{}\".format(a,b))   # .format 방식\n"
   ]
  },
  {
   "cell_type": "code",
   "execution_count": 11,
   "metadata": {},
   "outputs": [
    {
     "name": "stdout",
     "output_type": "stream",
     "text": [
      "a값:123 b값: 안녕하세요\n"
     ]
    }
   ],
   "source": [
    "a = 123\n",
    "b = \"안녕하세요\"\n",
    "print(f\"a값:{a} b값: {b}\")   # f-string 방식\n"
   ]
  }
 ],
 "metadata": {
  "kernelspec": {
   "display_name": "base",
   "language": "python",
   "name": "python3"
  },
  "language_info": {
   "codemirror_mode": {
    "name": "ipython",
    "version": 3
   },
   "file_extension": ".py",
   "mimetype": "text/x-python",
   "name": "python",
   "nbconvert_exporter": "python",
   "pygments_lexer": "ipython3",
   "version": "3.10.9"
  },
  "orig_nbformat": 4
 },
 "nbformat": 4,
 "nbformat_minor": 2
}
